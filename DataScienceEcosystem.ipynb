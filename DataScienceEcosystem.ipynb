{
  "nbformat": 4,
  "nbformat_minor": 0,
  "metadata": {
    "colab": {
      "provenance": []
    },
    "kernelspec": {
      "name": "python3",
      "display_name": "Python 3"
    },
    "language_info": {
      "name": "python"
    }
  },
  "cells": [
    {
      "cell_type": "markdown",
      "source": [
        "# Data Science Tools and Ecosystem\n"
      ],
      "metadata": {
        "id": "VSmS2hroGuPx"
      }
    },
    {
      "cell_type": "markdown",
      "source": [
        "In this notebook, data science and Ecosystem ares summarized\n"
      ],
      "metadata": {
        "id": "FWGkBTmOfKJ5"
      }
    },
    {
      "cell_type": "markdown",
      "source": [
        "Some of the popular languages that Data Scientists use are:\n",
        "1. Python\n",
        "2. R\n",
        "3. SQL\n",
        "4. Julia\n"
      ],
      "metadata": {
        "id": "FaNQTucGfSv7"
      }
    },
    {
      "cell_type": "markdown",
      "source": [
        "Some of the commonly used libraries used by Data Scientists include:\n",
        "1. NumPy\n",
        "2. Pandas\n",
        "3. Matplotlib\n",
        "4. Scikit-learn\n"
      ],
      "metadata": {
        "id": "BIjEAKezfnRT"
      }
    },
    {
      "cell_type": "markdown",
      "source": [
        "| Data Science Tools        |\n",
        "|---------------------------|\n",
        "| Jupyter Notebook          |\n",
        "| RStudio                   |\n",
        "| Apache Zeppelin           |"
      ],
      "metadata": {
        "id": "TBU0E8CsgQZz"
      }
    },
    {
      "cell_type": "markdown",
      "source": [
        "### Below are a few examples of evaluating arithmetic expressions in Python.\n"
      ],
      "metadata": {
        "id": "0MJCTzS-gZow"
      }
    },
    {
      "cell_type": "code",
      "execution_count": 1,
      "metadata": {
        "id": "XaVq60fMGjdQ",
        "colab": {
          "base_uri": "https://localhost:8080/"
        },
        "outputId": "02ee2ca0-a73f-4d72-8891-230a32bf5af8"
      },
      "outputs": [
        {
          "output_type": "execute_result",
          "data": {
            "text/plain": [
              "17"
            ]
          },
          "metadata": {},
          "execution_count": 1
        }
      ],
      "source": [
        "# This is a simple arithmetic expression to multiply then add integers\n",
        "(3*4)+5\n",
        "\n"
      ]
    },
    {
      "cell_type": "code",
      "source": [
        "# This will convert 200 minutes to hours by dividing by 60\n",
        "200 / 60\n"
      ],
      "metadata": {
        "colab": {
          "base_uri": "https://localhost:8080/"
        },
        "id": "5OXDx5Q5geJQ",
        "outputId": "b59a1594-1a20-46ad-d569-8b09f4f93fdb"
      },
      "execution_count": 2,
      "outputs": [
        {
          "output_type": "execute_result",
          "data": {
            "text/plain": [
              "3.3333333333333335"
            ]
          },
          "metadata": {},
          "execution_count": 2
        }
      ]
    },
    {
      "cell_type": "markdown",
      "source": [
        "**Objectives:**\n",
        "- List popular languages for Data Science\n",
        "- Introduce commonly used libraries in Data Science\n",
        "- Showcase Data Science tools and environments\n",
        "- Evaluate arithmetic expressions in Python\n"
      ],
      "metadata": {
        "id": "Up5sZp06gk6n"
      }
    },
    {
      "cell_type": "code",
      "source": [
        "## Author\n",
        "vijay kalore\n"
      ],
      "metadata": {
        "id": "RgTG_w3tgiOa"
      },
      "execution_count": null,
      "outputs": []
    }
  ]
}